{
  "nbformat": 4,
  "nbformat_minor": 0,
  "metadata": {
    "colab": {
      "provenance": [],
      "collapsed_sections": [
        "sFBVWOnKqllL"
      ]
    },
    "kernelspec": {
      "name": "python3",
      "display_name": "Python 3"
    },
    "language_info": {
      "name": "python"
    }
  },
  "cells": [
    {
      "cell_type": "markdown",
      "source": [
        "#**Actividad 4**#"
      ],
      "metadata": {
        "id": "sFBVWOnKqllL"
      }
    },
    {
      "cell_type": "markdown",
      "source": [
        "**Punto 1** \n",
        "\n",
        "Crear un bucle que cuente todos los números pares hasta el 100 ciclo for"
      ],
      "metadata": {
        "id": "hueOe_hTifvg"
      }
    },
    {
      "cell_type": "code",
      "execution_count": null,
      "metadata": {
        "id": "RSz39120iF1d"
      },
      "outputs": [],
      "source": [
        "for a in range(0,101,2):\n",
        "  print(a, end = \" \")"
      ]
    },
    {
      "cell_type": "markdown",
      "source": [
        "**Punto 2** \n",
        "\n",
        "Haz una tabla de multiplicar utilizando el ciclo for"
      ],
      "metadata": {
        "id": "IFEsLG6Vi82Q"
      }
    },
    {
      "cell_type": "code",
      "source": [
        "num = int(input(\"Digite el numero del cual desea ver su tabla de multiplicar: \"))\n",
        "\n",
        "for b in range(21):\n",
        "  print(num, \" x \", b , \" = \",  num * b)"
      ],
      "metadata": {
        "id": "rqLzh9yEjEfn"
      },
      "execution_count": null,
      "outputs": []
    },
    {
      "cell_type": "markdown",
      "source": [
        "**Punto 3** \n",
        "\n",
        "Escribir un programa que pregunte al usuario su edad y muestre por pantalla todos los años que ha cumplido (desde 1 hasta su edad). ciclo for"
      ],
      "metadata": {
        "id": "QkJoaxYikSPz"
      }
    },
    {
      "cell_type": "code",
      "source": [
        "edad = int(input(\"Digite su edad: \"))\n",
        "\n",
        "for c in range(1,edad + 1):\n",
        "  print(c, end = \" \")"
      ],
      "metadata": {
        "id": "OJFpZMk_kYlK"
      },
      "execution_count": null,
      "outputs": []
    },
    {
      "cell_type": "markdown",
      "source": [
        "**Punto 4** \n",
        "\n",
        "Escribir un programa que pida al usuario un número entero positivo y muestre por pantalla todos los números impares desde 1 hasta ese número \n",
        "separados por comas."
      ],
      "metadata": {
        "id": "gDdaCGTFlcdv"
      }
    },
    {
      "cell_type": "code",
      "source": [
        "numero = int(input(\"Digite un numero entero positivo: \"))\n",
        "\n",
        "for d in range(1,numero + 1,2):\n",
        "    print(d,end = \",\")"
      ],
      "metadata": {
        "id": "dRodDp2kllZ9"
      },
      "execution_count": null,
      "outputs": []
    },
    {
      "cell_type": "markdown",
      "source": [
        "**Punto 5** \n",
        "\n",
        "Encuentra la suma de todos los números pares del 1 al 100 ciclo for"
      ],
      "metadata": {
        "id": "fvwo0xpD2tZp"
      }
    },
    {
      "cell_type": "code",
      "source": [
        "num = 0\n",
        "\n",
        "for e in  range(0,101,2):\n",
        "  num = num + e\n",
        "  #print(e, end=\" \")\n",
        "\n",
        "print(f\"\\nEl total de la suma de los número pares es: {num}\")"
      ],
      "metadata": {
        "id": "LFxiwxLrqino"
      },
      "execution_count": null,
      "outputs": []
    }
  ]
}