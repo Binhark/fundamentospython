{
  "nbformat": 4,
  "nbformat_minor": 0,
  "metadata": {
    "colab": {
      "provenance": []
    },
    "kernelspec": {
      "name": "python3",
      "display_name": "Python 3"
    },
    "language_info": {
      "name": "python"
    }
  },
  "cells": [
    {
      "cell_type": "markdown",
      "source": [
        "#***Actividad 1***"
      ],
      "metadata": {
        "id": "cUiyrbCWMlkx"
      }
    },
    {
      "cell_type": "code",
      "source": [
        "No_Identificacion = input(\"No de Identificación:\") \n",
        "print(No_Identificacion)\n",
        "Nombres = input(\"Nombres:\")\n",
        "print(Nombres)\n",
        "Apellidos = input(\"Apellidos:\")\n",
        "print(Apellidos)\n",
        "Direccion = input(\"Dirección:\") \n",
        "print(Direccion)\n",
        "Telefono = input(\"Teléfono:\") \n",
        "print(Telefono)\n",
        "Edad = input(\"Edad:\") \n",
        "print(Edad)\n",
        "Estado_Civil = input(\"Estado Civil:\") \n",
        "print(Estado_Civil)\n",
        "No_hijos = input(\"Número de hijos:\") \n",
        "print(No_hijos)\n",
        "Estatura_CM = input(\"Estatura en centímetros:\") \n",
        "print(Estatura_CM)\n",
        "Fecha_contratacion = input(\"fecha de contratación (Día/mes/año):\") \n",
        "print(Fecha_contratacion)\n",
        "Sueldo_basico = input(\"Sueldo básico:\") \n",
        "print(Sueldo_basico)\n",
        "Dias_Laborados = input(\"Días Laborados:\") \n",
        "print(Dias_Laborados)"
      ],
      "metadata": {
        "id": "QaD2ttM5VmH3"
      },
      "execution_count": null,
      "outputs": []
    },
    {
      "cell_type": "code",
      "source": [
        "No_Identificacion = input(\"No de Identificación:\") \n",
        "Nombres = input(\"Nombres:\")\n",
        "Apellidos = input(\"Apellidos:\")\n",
        "Direccion = input(\"Dirección:\")\n",
        "Telefono = input(\"Teléfono:\")\n",
        "Edad = input(\"Edad:\")\n",
        "Estado_Civil = input(\"Estado Civil:\")\n",
        "No_hijos = input(\"Número de hijos:\")\n",
        "Estatura_CM = input(\"Estatura en centímetros:\")\n",
        "Fecha_contratacion = input(\"fecha de contratación (Día/mes/año):\") \n",
        "Sueldo_basico = input(\"Sueldo básico:\")\n",
        "Dias_Laborados = input(\"Días Laborados:\")\n",
        "print(No_Identificacion + \", \" + Nombres  + \", \" + Apellidos  + \", \" + Direccion  + \", \" + Telefono  + \", \" + Edad  + \", \" + Estado_Civil  + \", \" + No_hijos  + \", \" + Estatura_CM  + \", \" + Fecha_contratacion  + \", \" + Sueldo_basico  + \", \" + Dias_Laborados)"
      ],
      "metadata": {
        "id": "DYbuURgxb4ek"
      },
      "execution_count": null,
      "outputs": []
    }
  ]
}