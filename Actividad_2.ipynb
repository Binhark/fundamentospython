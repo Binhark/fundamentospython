{
  "nbformat": 4,
  "nbformat_minor": 0,
  "metadata": {
    "colab": {
      "provenance": []
    },
    "kernelspec": {
      "name": "python3",
      "display_name": "Python 3"
    },
    "language_info": {
      "name": "python"
    }
  },
  "cells": [
    {
      "cell_type": "markdown",
      "source": [
        "#**Actividad 2**#"
      ],
      "metadata": {
        "id": "sFBVWOnKqllL"
      }
    },
    {
      "cell_type": "markdown",
      "source": [
        "**Punto 1** \n",
        "\n",
        "Un vendedor recibe un sueldo base más un 10% extra por comisión de sus ventas, el vendedor desea saber cuánto dinero obtendrá por concepto de comisiones por las tres ventas que realiza en el mes y el total que recibirá en el mes tomando en cuenta su sueldo base y comisiones."
      ],
      "metadata": {
        "id": "liQRxVMQtRuF"
      }
    },
    {
      "cell_type": "code",
      "source": [
        "# captura valor de las ventas\n",
        "vent1 = float(input(\"¿Cuanto fue el total de la primer venta?: \"))\n",
        "vent2 = float(input(\"¿Cuanto fue el total de la segunda venta?: \"))\n",
        "vent3 = float(input(\"¿Cuanto fue el total de la tercer venta?: \"))\n",
        "# total de ventas\n",
        "ventas = (vent1 + vent2 + vent3)\n",
        "# comisión\n",
        "comision = ventas * 0.10\n",
        "# suma ventas con comision\n",
        "total = ventas + comision\n",
        "# formas de imprimir total del sueldo con comisiones\n",
        "print(\"\\nComisión por las ventas del mes = ${:,.0f} \\nValor total del sueldo =${:,.0f}\".format(comision, total ))\n",
        "print(f\"\\nComisión por las ventas del mes = ${comision:,.0f} \\nValor total del sueldo =${total:,.0f}\")"
      ],
      "metadata": {
        "id": "KcRzUn8wqzOR",
        "colab": {
          "base_uri": "https://localhost:8080/"
        },
        "outputId": "b49600e4-3dcf-4392-ba4f-50bb3585c4bb"
      },
      "execution_count": 3,
      "outputs": [
        {
          "output_type": "stream",
          "name": "stdout",
          "text": [
            "¿Cuanto fue el total de la primer venta?: 100000\n",
            "¿Cuanto fue el total de la segunda venta?: 200000\n",
            "¿Cuanto fue el total de la tercer venta?: 300000\n",
            "\n",
            "Comisión por las ventas del mes = $60,000 \n",
            "Valor total del sueldo =$660,000\n",
            "\n",
            "Comisión por las ventas del mes = $60,000 \n",
            "Valor total del sueldo =$660,000\n"
          ]
        }
      ]
    },
    {
      "cell_type": "markdown",
      "source": [
        "**Punto 2**\n",
        "\n",
        "Una tienda ofrece un descuento del 15% sobre el total de la compra y un cliente desea saber cuánto deberá pagar finalmente por su compra."
      ],
      "metadata": {
        "id": "Ghmj5K2Qiuq-"
      }
    },
    {
      "cell_type": "code",
      "source": [
        "# Valor de la compra \n",
        "compra = float(input(\"¿cual es el valor de la compra?: \"))\n",
        "# valor de descuento\n",
        "descuento = compra * 0.15\n",
        "# total a pagar\n",
        "total = compra - descuento\n",
        "# formas de imprimir Valor total y descuento\n",
        "print(\"\\nValor total a pagar = ${:,} \\nValor descuento = ${:,}\".format(total, descuento))\n",
        "print(f\"\\nValor total a pagar = ${total:,} \\nValor descuento = ${descuento:,}\")"
      ],
      "metadata": {
        "id": "9-GWJPeiiy-J"
      },
      "execution_count": null,
      "outputs": []
    },
    {
      "cell_type": "markdown",
      "source": [
        "**Punto 3**\n",
        "\n",
        "Un alumno desea saber cuál será su calificación final en la materia de Algoritmos. Dicha calificación se compone de tres exámenes parciales."
      ],
      "metadata": {
        "id": "tBCJilXVlgbr"
      }
    },
    {
      "cell_type": "code",
      "source": [
        "# captura notas de parciales\n",
        "parc1 = float(input(\"¿Nota del primer parcial?: \"))\n",
        "parc2 = float(input(\"¿Nota del segundo parcial?: \"))\n",
        "parc3 = float(input(\"¿Nota del tercer parcial?: \"))\n",
        "# Promedio de Calificación \n",
        "calificacion = round((parc1 + parc2 + parc3) / 3, 2)\n",
        "# formas de imprimir calificación final\n",
        "print(\"\\nCalificacion final = {}\".format(calificacion))\n",
        "print(f\"\\nCalificacion final = {calificacion}\")"
      ],
      "metadata": {
        "id": "wwdwkRwvlkMx"
      },
      "execution_count": null,
      "outputs": []
    },
    {
      "cell_type": "markdown",
      "source": [
        "**Punto 4**\n",
        "\n",
        "Un maestro desea saber qué porcentaje de hombres y que porcentaje de mujeres hay en un grupo de estudiantes."
      ],
      "metadata": {
        "id": "0WyhDreNliZr"
      }
    },
    {
      "cell_type": "code",
      "source": [
        "# Captura de cantidad por genero\n",
        "hombre = int(input(\"¿Cuantos hombres hay en el salon?: \"))\n",
        "mujer = int(input(\"¿Cuantos mujeres hay en el salon?: \"))\n",
        "# cantidad de estudiantes\n",
        "grupo = hombre + mujer\n",
        "# Porcentaje\n",
        "phom = hombre / grupo * 100\n",
        "pmuj = mujer / grupo * 100\n",
        "# formas de imprimir porcentaje de hombres y de mujeres en el salon\n",
        "print(\"\\nporcentaje de hombres en el salon = {:,.0f}% \\nporcentaje de mujeres en el salon = {:,.0f}%\".format(phom, pmuj))\n",
        "print(f\"\\nporcentaje de hombres en el salon = {phom:,.0f}% \\nporcentaje de mujeres en el salon = {pmuj:,.0f}%\")"
      ],
      "metadata": {
        "id": "yq70jr_flmEJ",
        "colab": {
          "base_uri": "https://localhost:8080/"
        },
        "outputId": "afbb9d4b-c82e-4d5b-a579-41962421913b"
      },
      "execution_count": 1,
      "outputs": [
        {
          "output_type": "stream",
          "name": "stdout",
          "text": [
            "¿Cuantos hombres hay en el salon?: 50\n",
            "¿Cuantos mujeres hay en el salon?: 50\n",
            "\n",
            "porcentaje de hombres en el salon = 50% \n",
            "porcentaje de mujeres en el salon = 50%\n",
            "\n",
            "porcentaje de hombres en el salon = 50% \n",
            "porcentaje de mujeres en el salon = 50%\n"
          ]
        }
      ]
    }
  ]
}